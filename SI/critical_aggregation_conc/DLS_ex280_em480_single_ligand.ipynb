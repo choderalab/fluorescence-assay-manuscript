{
 "cells": [
  {
   "cell_type": "code",
   "execution_count": 3,
   "metadata": {},
   "outputs": [],
   "source": [
    "# adapted from kinase_single_well_spectra_edited\n",
    "\n",
    "# %data\n",
    "\n",
    "\n",
    "# get_ipython().run_line_magic('matplotlib', 'inline')\n",
    "%matplotlib inline \n",
    "import matplotlib.pyplot as plt\n",
    "import seaborn as sns\n",
    "import numpy as np\n",
    "import os\n",
    "import string \n",
    "from matplotlib.offsetbox import AnchoredText\n",
    "import matplotlib.cm as cm\n",
    "import pandas as pd\n",
    "from matplotlib.ticker import FormatStrFormatter\n",
    "from matplotlib.ticker import FormatStrFormatter\n",
    "import matplotlib\n",
    "from glob import glob\n",
    "from matplotlib.backends.backend_pdf import PdfPages\n",
    "\n",
    "\n",
    "# In[13]:\n",
    "\n",
    "\n",
    "import assaytools\n",
    "\n",
    "\n",
    "# In[14]:\n",
    "\n",
    "\n",
    "from assaytools import platereader\n",
    "\n",
    "\n",
    "# In[15]:\n",
    "\n",
    "filename1 = '2018-10-09_17-09-27_plate_7_DLS_EEG.xml'\n",
    "filename2 = '20181015_DLS_kinase_inh_new_set_2_plate_2.xml'\n",
    "\n",
    "datapath = 'infinite_results'"
   ]
  },
  {
   "cell_type": "code",
   "execution_count": 4,
   "metadata": {},
   "outputs": [
    {
     "data": {
      "text/plain": [
       "array([80.        , 76.56521739, 73.13043478, 69.69565217, 66.26086957,\n",
       "       62.82608696, 59.39130435, 55.95652174, 52.52173913, 49.08695652,\n",
       "       45.65217391, 42.2173913 , 38.7826087 , 35.34782609, 31.91304348,\n",
       "       28.47826087, 25.04347826, 21.60869565, 18.17391304, 14.73913043,\n",
       "       11.30434783,  7.86956522,  4.43478261,  1.        ])"
      ]
     },
     "execution_count": 4,
     "metadata": {},
     "output_type": "execute_result"
    }
   ],
   "source": [
    "# Titration of Ligand Concentrations\n",
    "conc_array = np.array([80.0,76.5652173913,73.1304347826,69.6956521739,66.2608695652,62.8260869565,59.3913043478,55.9565217391,52.5217391304,49.0869565217,45.652173913,42.2173913043,38.7826086957,35.347826087,31.9130434783,28.4782608696,25.0434782609,21.6086956522,18.1739130435,14.7391304348,11.3043478261,7.86956521739,4.4347826087,1.0], np.float64)\n",
    "conc_array"
   ]
  },
  {
   "cell_type": "code",
   "execution_count": 5,
   "metadata": {},
   "outputs": [
    {
     "name": "stdout",
     "output_type": "stream",
     "text": [
      "[80.         76.56521739 73.13043478 69.69565217 66.26086957 62.82608696\n",
      " 59.39130435 55.95652174 52.52173913 49.08695652 45.65217391 42.2173913 ]\n",
      "[38.7826087  35.34782609 31.91304348 28.47826087 25.04347826 21.60869565\n",
      " 18.17391304 14.73913043 11.30434783  7.86956522  4.43478261  1.        ]\n",
      "[ 1.          4.43478261  7.86956522 11.30434783 14.73913043 18.17391304\n",
      " 21.60869565 25.04347826 28.47826087 31.91304348 35.34782609 38.7826087 ]\n"
     ]
    },
    {
     "data": {
      "text/plain": [
       "array([80.        , 76.56521739, 73.13043478, 69.69565217, 66.26086957,\n",
       "       62.82608696, 59.39130435, 55.95652174, 52.52173913, 49.08695652,\n",
       "       45.65217391, 42.2173913 ,  1.        ,  4.43478261,  7.86956522,\n",
       "       11.30434783, 14.73913043, 18.17391304, 21.60869565, 25.04347826,\n",
       "       28.47826087, 31.91304348, 35.34782609, 38.7826087 ])"
      ]
     },
     "execution_count": 5,
     "metadata": {},
     "output_type": "execute_result"
    }
   ],
   "source": [
    "# reorder conc array for infinite snaking\n",
    "first_row_conc_array = conc_array[0:12]\n",
    "print(first_row_conc_array)\n",
    "second_row_conc_array  = conc_array[12:]\n",
    "print(second_row_conc_array)\n",
    "flipped_second_row_conc_array = second_row_conc_array[::-1]\n",
    "print(flipped_second_row_conc_array)\n",
    "\n",
    "#snaking conc\n",
    "conc_array = np.append(first_row_conc_array, flipped_second_row_conc_array)\n",
    "conc_array"
   ]
  },
  {
   "cell_type": "code",
   "execution_count": 6,
   "metadata": {},
   "outputs": [
    {
     "data": {
      "text/plain": [
       "dict_keys(['Ponatinib1', 'Ponatinib2', 'Ponatinib3', 'Ponatinib4', 'Ponatinib5'])"
      ]
     },
     "execution_count": 6,
     "metadata": {},
     "output_type": "execute_result"
    }
   ],
   "source": [
    "# List well boundaries of titration replicates as dictionary values, \n",
    "# in the direction of increasing ligand concentration\n",
    "\n",
    "ligands = {\"Ponatinib1\":[\"A1-A12\", \"B1-B12\"], \n",
    "           \"Ponatinib2\": [\"C1-C12\",\"D1-D12\"], \n",
    "           \"Ponatinib3\": [\"E1-E12\", \"F1-F12\"], \n",
    "           \"Ponatinib4\": [\"G1-G12\", \"H1-H12\"],\n",
    "           \"Ponatinib5\":[\"A1-A12\", \"B1-B12\"]}\n",
    "\n",
    "ligands.keys()"
   ]
  },
  {
   "cell_type": "code",
   "execution_count": 7,
   "metadata": {},
   "outputs": [
    {
     "name": "stdout",
     "output_type": "stream",
     "text": [
      "[{'top_read_ex280_em480': {'A1': '11774', 'A2': '11414', 'A3': '10897', 'A4': '10473', 'A5': '9416', 'A6': '9249', 'A7': '8172', 'A8': '7209', 'A9': '5961', 'A10': '5318', 'A11': '2322', 'A12': '175', 'B12': '65', 'B11': '101', 'B10': '72', 'B9': '52', 'B8': '51', 'B7': '68', 'B6': '72', 'B5': '52', 'B4': '48', 'B3': '74', 'B2': '53', 'B1': '69', 'C1': '13514', 'C2': '13232', 'C3': '12818', 'C4': '12339', 'C5': '11472', 'C6': '10730', 'C7': '11027', 'C8': '9861', 'C9': '8858', 'C10': '8120', 'C11': '7531', 'C12': '6436', 'D12': '174', 'D11': '359', 'D10': '629', 'D9': '1086', 'D8': '1969', 'D7': '2732', 'D6': '3345', 'D5': '4394', 'D4': '4910', 'D3': '5273', 'D2': '5626', 'D1': '5570', 'E1': '14055', 'E2': '13082', 'E3': '13138', 'E4': '12664', 'E5': '11593', 'E6': '11244', 'E7': '9875', 'E8': '7844', 'E9': '3812', 'E10': '163', 'E11': '177', 'E12': '181', 'F12': '82', 'F11': '140', 'F10': '82', 'F9': '68', 'F8': '56', 'F7': '43', 'F6': '44', 'F5': '45', 'F4': '137', 'F3': '44', 'F2': '45', 'F1': '43', 'G1': '13461', 'G2': '12789', 'G3': '12313', 'G4': '11602', 'G5': '11473', 'G6': '11558', 'G7': '10882', 'G8': '9458', 'G9': '8586', 'G10': '8069', 'G11': '7725', 'G12': '6679', 'H12': '141', 'H11': '310', 'H10': '495', 'H9': '848', 'H8': '1418', 'H7': '2151', 'H6': '2589', 'H5': '3863', 'H4': '4266', 'H3': '5133', 'H2': '4984', 'H1': '5061'}}\n",
      " 1]\n",
      "[{'top_read_ex280_em480': {'A1': '14688', 'A2': '13416', 'A3': '13196', 'A4': '12584', 'A5': '11996', 'A6': '11256', 'A7': '9706', 'A8': '9026', 'A9': '8390', 'A10': '7397', 'A11': '6129', 'A12': '5665', 'B12': '199', 'B11': '390', 'B10': '639', 'B9': '997', 'B8': '1463', 'B7': '2442', 'B6': '3223', 'B5': '3544', 'B4': '4204', 'B3': '4778', 'B2': '5559', 'B1': '5540', 'C1': '47', 'C2': '45', 'C3': '45', 'C4': '44', 'C5': '45', 'C6': '44', 'C7': '46', 'C8': '46', 'C9': '45', 'C10': '43', 'C11': '40', 'C12': '41', 'D12': '43', 'D11': '45', 'D10': '43', 'D9': '42', 'D8': '44', 'D7': '39', 'D6': '40', 'D5': '40', 'D4': '40', 'D3': '39', 'D2': '42', 'D1': '38', 'E1': '99', 'E2': '93', 'E3': '88', 'E4': '88', 'E5': '88', 'E6': '86', 'E7': '86', 'E8': '86', 'E9': '80', 'E10': '83', 'E11': '77', 'E12': '74', 'F12': '41', 'F11': '40', 'F10': '45', 'F9': '47', 'F8': '55', 'F7': '58', 'F6': '60', 'F5': '64', 'F4': '64', 'F3': '71', 'F2': '69', 'F1': '68', 'G1': '1385', 'G2': '1292', 'G3': '1451', 'G4': '1278', 'G5': '1364', 'G6': '1152', 'G7': '1151', 'G8': '999', 'G9': '885', 'G10': '808', 'G11': '687', 'G12': '546', 'H12': '38', 'H11': '51', 'H10': '85', 'H9': '145', 'H8': '201', 'H7': '278', 'H6': '382', 'H5': '449', 'H4': '489', 'H3': '577', 'H2': '619', 'H1': '618'}}\n",
      " 1]\n"
     ]
    }
   ],
   "source": [
    "s = (1,24)\n",
    "reads1 = np.zeros(s)\n",
    "reads2 = np.zeros(s)\n",
    "label = 'top_read_ex280_em480'\n",
    "\n",
    "nreads = len(filename1)\n",
    "for r in range(nreads):\n",
    "    read1 = platereader.read_icontrol_xml(os.path.join(datapath, filename1))\n",
    "    for key, value in read1.items():\n",
    "        reads1 = (np.append(read1,1))\n",
    "print(reads1)\n",
    "\n",
    "for r in range(nreads):\n",
    "    read2 = platereader.read_icontrol_xml(os.path.join(datapath, filename2))\n",
    "    for key, value in read2.items():\n",
    "        reads2 = (np.append(read2,1))\n",
    "print(reads2)"
   ]
  },
  {
   "cell_type": "code",
   "execution_count": 8,
   "metadata": {},
   "outputs": [
    {
     "name": "stdout",
     "output_type": "stream",
     "text": [
      "[11774. 11414. 10897. 10473.  9416.  9249.  8172.  7209.  5961.  5318.\n",
      "  2322.   175.    65.   101.    72.    52.    51.    68.    72.    52.\n",
      "    48.    74.    53.    69.]\n",
      "[13514. 13232. 12818. 12339. 11472. 10730. 11027.  9861.  8858.  8120.\n",
      "  7531.  6436.   174.   359.   629.  1086.  1969.  2732.  3345.  4394.\n",
      "  4910.  5273.  5626.  5570.]\n",
      "[14055. 13082. 13138. 12664. 11593. 11244.  9875.  7844.  3812.   163.\n",
      "   177.   181.    82.   140.    82.    68.    56.    43.    44.    45.\n",
      "   137.    44.    45.    43.]\n",
      "[13461. 12789. 12313. 11602. 11473. 11558. 10882.  9458.  8586.  8069.\n",
      "  7725.  6679.   141.   310.   495.   848.  1418.  2151.  2589.  3863.\n",
      "  4266.  5133.  4984.  5061.]\n",
      "[14688. 13416. 13196. 12584. 11996. 11256.  9706.  9026.  8390.  7397.\n",
      "  6129.  5665.   199.   390.   639.   997.  1463.  2442.  3223.  3544.\n",
      "  4204.  4778.  5559.  5540.]\n"
     ]
    }
   ],
   "source": [
    "# split up reads into 4 sections for ligands and convert to float\n",
    "\n",
    "#reads1\n",
    "reads1_values = list((reads1[0][label].values()))\n",
    "reads1_lig1 = (reads1_values[0:24])\n",
    "reads1_lig1 = np.array(reads1_lig1, dtype=float) \n",
    "print(reads1_lig1)\n",
    "reads1_lig2 = (reads1_values[24:48])\n",
    "reads1_lig2 = np.array(reads1_lig2, dtype=float)\n",
    "print(reads1_lig2)\n",
    "reads1_lig3 = (reads1_values[48:72])\n",
    "reads1_lig3 = np.array(reads1_lig3, dtype=float)\n",
    "print(reads1_lig3)\n",
    "reads1_lig4 = (reads1_values[72:96])\n",
    "reads1_lig4 = np.array(reads1_lig4, dtype=float)\n",
    "print(reads1_lig4)\n",
    "\n",
    "#reads2\n",
    "reads2_values = list((reads2[0][label].values()))\n",
    "reads2_lig1 = (reads2_values[0:24])\n",
    "reads2_lig1 = np.array(reads2_lig1, dtype=float) \n",
    "print(reads2_lig1)"
   ]
  },
  {
   "cell_type": "code",
   "execution_count": 9,
   "metadata": {},
   "outputs": [],
   "source": [
    "# define functions for reading well list associated with each ligand\n",
    "\n",
    "def extract_fluo(well_dictionary, ligand = \"bosutinib\", number_of_sections = 2 , number_of_wells_in_each_section = 12):\n",
    "    \"\"\"\n",
    "    For specified ligand, returns a numpy array of fluorescence values \n",
    "    where replicates are concatanated after each other.\n",
    "    \"\"\"\n",
    "    ALPHABET = string.ascii_uppercase\n",
    "\n",
    "    # construct a dictionary that keeps well labels for each replicate keeping experimental order\n",
    "    \n",
    "    section_well_labels = {}\n",
    "\n",
    "    for i in range(number_of_sections):\n",
    "\n",
    "        well_interval = ligands[ligand][i]\n",
    "        print(well_interval)\n",
    "        first_well, last_well = well_interval.split(\"-\")\n",
    "        #print(first_well, last_well)\n",
    "\n",
    "        # determine if well series in each section was positioned horizontally or vertically\n",
    "        if first_well[0:1] == last_well[0:1]:\n",
    "            print(\"Section {} is placed horizontally\".format(i+1))\n",
    "            row_name = first_well[0:1]\n",
    "\n",
    "            well_name_list = []\n",
    "            for j in range(number_of_wells_in_each_section):\n",
    "                well_label = row_name + str(j+1)\n",
    "                well_name_list.append(well_label)\n",
    "            #print(well_name_list)\n",
    "            section_well_labels[\"sec{}\".format(i+1)] = well_name_list\n",
    "            #print('section_well_labels', section_well_labels)\n",
    "\n",
    "        else:\n",
    "            #print(\"Section {} is placed vertically\".format(i+1))\n",
    "            column_name = first_well[1:]\n",
    "\n",
    "            well_name_list = []\n",
    "            for j in range(number_of_wells_in_each_section):\n",
    "                well_label = ALPHABET[j] + column_name\n",
    "                well_name_list.append(well_label)\n",
    "            #print(well_name_list)\n",
    "            section_well_labels[\"sec{}\".format(i+1)] = well_name_list\n",
    "            \n",
    "    # Concatanate well labels of all sections to achieve full well name list\n",
    "    \n",
    "    full_well_name_list = [] # Concatanate well labels of all sections to achieve full well name list\n",
    "    \n",
    "    for i in range(number_of_sections):\n",
    "        well_name_list = section_well_labels[\"sec{}\".format(i+1)]\n",
    "        full_well_name_list = full_well_name_list + well_name_list\n",
    "        \n",
    "    print(\"full_well_name_list:\\n\", full_well_name_list )\n",
    "    \n",
    "    # Create numpy array for fluorescence values\n",
    "    \n",
    "    fluo_array_1 = np.zeros([number_of_sections*number_of_wells_in_each_section])\n",
    "    fluo_array_2 = np.zeros([number_of_sections*number_of_wells_in_each_section])\n",
    "    fluo_array_3 = np.zeros([number_of_sections*number_of_wells_in_each_section])\n",
    "    fluo_array_4 = np.zeros([number_of_sections*number_of_wells_in_each_section])\n",
    "    fluo_array_5 = np.zeros([number_of_sections*number_of_wells_in_each_section])\n",
    "\n",
    "    if ligand == \"Ponatinib1\":\n",
    "        fluo_array = reads1_lig1\n",
    "#         fluo_array_2 = reads2_lig1\n",
    "    if ligand == \"Ponatinib2\":\n",
    "        fluo_array = reads1_lig2\n",
    "#         fluo_array_2 = reads2_lig2\n",
    "    if ligand == \"Ponatinib3\":\n",
    "        fluo_array = reads1_lig3\n",
    "#         fluo_array_2 = reads2_lig3\n",
    "    if ligand == \"Ponatinib4\":\n",
    "        fluo_array = reads1_lig4\n",
    "    if ligand == \"Ponatinib5\":\n",
    "        fluo_array = reads2_lig1\n",
    "#         fluo_array_2 = reads2_lig4\n",
    "#     for j, well_name in enumerate(full_well_name_list):\n",
    "#             fluo_array = reads_lig1\n",
    "#             print(fluo_array)\n",
    "            #print(well_name, norm_int)\n",
    "         \n",
    "#             # If fluorescence is recorded as 'OVER', record it as 0\n",
    "#             if fluo_array == 'OVER':\n",
    "#                 fluo_array = 329724 #an arbitrarily high number\n",
    "#             fluo_array[j] = fluo_reads\n",
    "            \n",
    "    return(fluo_array)\n",
    "\n",
    "\n",
    "def DLS_fluo_plot(concentrations, data1, data2, data3, data4, data5, ligand_name, ymax):\n",
    "    figure = plt.figure()\n",
    "    with sns.color_palette(\"colorblind\"):\n",
    "        plt.plot(concentrations, data1, \"o\", label='Replicate 1', markersize=4, alpha=0.6)\n",
    "        plt.plot(concentrations, data2, \"o\", label='Replicate 2', markersize=4, alpha=0.6)\n",
    "        plt.plot(concentrations, data3, \"o\", label='Replicate 3', markersize=4, alpha=0.6)\n",
    "        plt.plot(concentrations, data4, \"o\", label='Replicate 4', markersize=4, alpha=0.6)\n",
    "        plt.plot(concentrations, data5, \"o\", label='Replicate 5', markersize=4, alpha=0.6)\n",
    "        plt.legend(loc='upper left', prop={'size': 11})\n",
    "        plt.title(ligand_name, size=18)\n",
    "        plt.xlabel(\"Concentration ($\\mu$M)\", size=15)\n",
    "        plt.ylabel(\"Fluorescence Units\", size=15)\n",
    "        plt.ylim(0, ymax)\n",
    "        plt.tick_params(axis='y', which='major', labelsize=9)\n",
    "        plt.tick_params(axis='x', which='major', labelsize=12)\n",
    "        plt.show()\n",
    "    return(figure)\n"
   ]
  },
  {
   "cell_type": "code",
   "execution_count": 10,
   "metadata": {},
   "outputs": [
    {
     "name": "stdout",
     "output_type": "stream",
     "text": [
      "A1-A12\n",
      "Section 1 is placed horizontally\n",
      "B1-B12\n",
      "Section 2 is placed horizontally\n",
      "full_well_name_list:\n",
      " ['A1', 'A2', 'A3', 'A4', 'A5', 'A6', 'A7', 'A8', 'A9', 'A10', 'A11', 'A12', 'B1', 'B2', 'B3', 'B4', 'B5', 'B6', 'B7', 'B8', 'B9', 'B10', 'B11', 'B12']\n",
      "Fluorescence Values [11774. 11414. 10897. 10473.  9416.  9249.  8172.  7209.  5961.  5318.\n",
      "  2322.   175.    65.   101.    72.    52.    51.    68.    72.    52.\n",
      "    48.    74.    53.    69.]\n",
      "C1-C12\n",
      "Section 1 is placed horizontally\n",
      "D1-D12\n",
      "Section 2 is placed horizontally\n",
      "full_well_name_list:\n",
      " ['C1', 'C2', 'C3', 'C4', 'C5', 'C6', 'C7', 'C8', 'C9', 'C10', 'C11', 'C12', 'D1', 'D2', 'D3', 'D4', 'D5', 'D6', 'D7', 'D8', 'D9', 'D10', 'D11', 'D12']\n",
      "Fluorescence Values [13514. 13232. 12818. 12339. 11472. 10730. 11027.  9861.  8858.  8120.\n",
      "  7531.  6436.   174.   359.   629.  1086.  1969.  2732.  3345.  4394.\n",
      "  4910.  5273.  5626.  5570.]\n",
      "E1-E12\n",
      "Section 1 is placed horizontally\n",
      "F1-F12\n",
      "Section 2 is placed horizontally\n",
      "full_well_name_list:\n",
      " ['E1', 'E2', 'E3', 'E4', 'E5', 'E6', 'E7', 'E8', 'E9', 'E10', 'E11', 'E12', 'F1', 'F2', 'F3', 'F4', 'F5', 'F6', 'F7', 'F8', 'F9', 'F10', 'F11', 'F12']\n",
      "Fluorescence Values [14055. 13082. 13138. 12664. 11593. 11244.  9875.  7844.  3812.   163.\n",
      "   177.   181.    82.   140.    82.    68.    56.    43.    44.    45.\n",
      "   137.    44.    45.    43.]\n",
      "G1-G12\n",
      "Section 1 is placed horizontally\n",
      "H1-H12\n",
      "Section 2 is placed horizontally\n",
      "full_well_name_list:\n",
      " ['G1', 'G2', 'G3', 'G4', 'G5', 'G6', 'G7', 'G8', 'G9', 'G10', 'G11', 'G12', 'H1', 'H2', 'H3', 'H4', 'H5', 'H6', 'H7', 'H8', 'H9', 'H10', 'H11', 'H12']\n",
      "Fluorescence Values [13461. 12789. 12313. 11602. 11473. 11558. 10882.  9458.  8586.  8069.\n",
      "  7725.  6679.   141.   310.   495.   848.  1418.  2151.  2589.  3863.\n",
      "  4266.  5133.  4984.  5061.]\n",
      "A1-A12\n",
      "Section 1 is placed horizontally\n",
      "B1-B12\n",
      "Section 2 is placed horizontally\n",
      "full_well_name_list:\n",
      " ['A1', 'A2', 'A3', 'A4', 'A5', 'A6', 'A7', 'A8', 'A9', 'A10', 'A11', 'A12', 'B1', 'B2', 'B3', 'B4', 'B5', 'B6', 'B7', 'B8', 'B9', 'B10', 'B11', 'B12']\n",
      "Fluorescence Values [14688. 13416. 13196. 12584. 11996. 11256.  9706.  9026.  8390.  7397.\n",
      "  6129.  5665.   199.   390.   639.   997.  1463.  2442.  3223.  3544.\n",
      "  4204.  4778.  5559.  5540.]\n"
     ]
    },
    {
     "data": {
      "image/png": "[encoded data removed]",
      "text/plain": [
       "<Figure size 432x288 with 1 Axes>"
      ]
     },
     "metadata": {},
     "output_type": "display_data"
    }
   ],
   "source": [
    "data_array_1 = extract_fluo(well_dictionary = ligands, ligand = \"Ponatinib1\")\n",
    "print(\"Fluorescence Values\", data_array_1)\n",
    "data_array_2 = extract_fluo(well_dictionary = ligands, ligand = \"Ponatinib2\")\n",
    "print(\"Fluorescence Values\", data_array_2)\n",
    "data_array_3 = extract_fluo(well_dictionary = ligands, ligand = \"Ponatinib3\")\n",
    "print(\"Fluorescence Values\", data_array_3)\n",
    "data_array_4 = extract_fluo(well_dictionary = ligands, ligand = \"Ponatinib4\")\n",
    "print(\"Fluorescence Values\", data_array_4)\n",
    "data_array_5 = extract_fluo(well_dictionary = ligands, ligand = \"Ponatinib5\")\n",
    "print(\"Fluorescence Values\", data_array_5)\n",
    "fig = DLS_fluo_plot(concentrations = conc_array, data1 = data_array_1, data2 = data_array_2, data3 = data_array_3, data4 = data_array_4, data5 = data_array_5, ligand_name = \"Ponatinib Free Base\", ymax = 15000)"
   ]
  },
  {
   "cell_type": "code",
   "execution_count": 11,
   "metadata": {},
   "outputs": [
    {
     "name": "stdout",
     "output_type": "stream",
     "text": [
      "A1-A12\n",
      "Section 1 is placed horizontally\n",
      "B1-B12\n",
      "Section 2 is placed horizontally\n",
      "full_well_name_list:\n",
      " ['A1', 'A2', 'A3', 'A4', 'A5', 'A6', 'A7', 'A8', 'A9', 'A10', 'A11', 'A12', 'B1', 'B2', 'B3', 'B4', 'B5', 'B6', 'B7', 'B8', 'B9', 'B10', 'B11', 'B12']\n",
      "C1-C12\n",
      "Section 1 is placed horizontally\n",
      "D1-D12\n",
      "Section 2 is placed horizontally\n",
      "full_well_name_list:\n",
      " ['C1', 'C2', 'C3', 'C4', 'C5', 'C6', 'C7', 'C8', 'C9', 'C10', 'C11', 'C12', 'D1', 'D2', 'D3', 'D4', 'D5', 'D6', 'D7', 'D8', 'D9', 'D10', 'D11', 'D12']\n",
      "E1-E12\n",
      "Section 1 is placed horizontally\n",
      "F1-F12\n",
      "Section 2 is placed horizontally\n",
      "full_well_name_list:\n",
      " ['E1', 'E2', 'E3', 'E4', 'E5', 'E6', 'E7', 'E8', 'E9', 'E10', 'E11', 'E12', 'F1', 'F2', 'F3', 'F4', 'F5', 'F6', 'F7', 'F8', 'F9', 'F10', 'F11', 'F12']\n",
      "G1-G12\n",
      "Section 1 is placed horizontally\n",
      "H1-H12\n",
      "Section 2 is placed horizontally\n",
      "full_well_name_list:\n",
      " ['G1', 'G2', 'G3', 'G4', 'G5', 'G6', 'G7', 'G8', 'G9', 'G10', 'G11', 'G12', 'H1', 'H2', 'H3', 'H4', 'H5', 'H6', 'H7', 'H8', 'H9', 'H10', 'H11', 'H12']\n",
      "A1-A12\n",
      "Section 1 is placed horizontally\n",
      "B1-B12\n",
      "Section 2 is placed horizontally\n",
      "full_well_name_list:\n",
      " ['A1', 'A2', 'A3', 'A4', 'A5', 'A6', 'A7', 'A8', 'A9', 'A10', 'A11', 'A12', 'B1', 'B2', 'B3', 'B4', 'B5', 'B6', 'B7', 'B8', 'B9', 'B10', 'B11', 'B12']\n"
     ]
    },
    {
     "data": {
      "image/png": "[encoded data removed]",
      "text/plain": [
       "<Figure size 432x288 with 1 Axes>"
      ]
     },
     "metadata": {},
     "output_type": "display_data"
    }
   ],
   "source": [
    "# Save plot in a pdf\n",
    "pdf = PdfPages(\"20181026_kinase_inh_comparison_ponatinib_fluorescence.pdf\")\n",
    "\n",
    "data_array_1 = extract_fluo(well_dictionary = ligands, ligand = \"Ponatinib1\")\n",
    "data_array_2 = extract_fluo(well_dictionary = ligands, ligand = \"Ponatinib2\")\n",
    "data_array_3 = extract_fluo(well_dictionary = ligands, ligand = \"Ponatinib3\")\n",
    "data_array_4 = extract_fluo(well_dictionary = ligands, ligand = \"Ponatinib4\")\n",
    "data_array_5 = extract_fluo(well_dictionary = ligands, ligand = \"Ponatinib5\")\n",
    "plot1 = DLS_fluo_plot(concentrations = conc_array, data1 = data_array_1, data2 = data_array_2, data3 = data_array_3, data4 = data_array_4, data5 = data_array_5, ligand_name = \"Ponatinib Free Base\", ymax = 15000)\n",
    "pdf.savefig(plot1)\n",
    "    \n",
    "pdf.close()"
   ]
  },
  {
   "cell_type": "code",
   "execution_count": null,
   "metadata": {},
   "outputs": [],
   "source": []
  }
 ],
 "metadata": {
  "kernelspec": {
   "display_name": "Python 3",
   "language": "python",
   "name": "python3"
  },
  "language_info": {
   "codemirror_mode": {
    "name": "ipython",
    "version": 3
   },
   "file_extension": ".py",
   "mimetype": "text/x-python",
   "name": "python",
   "nbconvert_exporter": "python",
   "pygments_lexer": "ipython3",
   "version": "3.6.6"
  }
 },
 "nbformat": 4,
 "nbformat_minor": 2
}
