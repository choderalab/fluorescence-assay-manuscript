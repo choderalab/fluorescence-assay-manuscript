{
 "cells": [
  {
   "cell_type": "code",
   "execution_count": 1,
   "metadata": {},
   "outputs": [],
   "source": [
    "# adapted from kinase_single_well_spectra_edited\n",
    "\n",
    "# %data\n",
    "\n",
    "\n",
    "# get_ipython().run_line_magic('matplotlib', 'inline')\n",
    "%matplotlib inline \n",
    "import matplotlib.pyplot as plt\n",
    "import seaborn as sns\n",
    "import numpy as np\n",
    "import os\n",
    "import string \n",
    "from matplotlib.offsetbox import AnchoredText\n",
    "import matplotlib.cm as cm\n",
    "import pandas as pd\n",
    "from matplotlib.ticker import FormatStrFormatter\n",
    "from matplotlib.ticker import FormatStrFormatter\n",
    "import matplotlib\n",
    "from glob import glob\n",
    "from matplotlib.backends.backend_pdf import PdfPages\n",
    "\n",
    "\n",
    "# In[13]:\n",
    "\n",
    "\n",
    "import assaytools\n",
    "\n",
    "\n",
    "# In[14]:\n",
    "\n",
    "\n",
    "from assaytools import platereader\n",
    "\n",
    "\n",
    "# In[15]:\n",
    "\n",
    "filename1 = '20181010_DLS_kinase_inh_new_set_1.xml'\n",
    "filename2 = '20181015_DLS_kinase_inh_new_set_1_plate_2.xml'\n",
    "filename3 = '20181018_DLS_kinase_inh_new_set_1_plate_3.xml'\n",
    "\n",
    "datapath = 'infinite_results'"
   ]
  },
  {
   "cell_type": "code",
   "execution_count": 2,
   "metadata": {},
   "outputs": [
    {
     "data": {
      "text/plain": [
       "array([80.        , 76.56521739, 73.13043478, 69.69565217, 66.26086957,\n",
       "       62.82608696, 59.39130435, 55.95652174, 52.52173913, 49.08695652,\n",
       "       45.65217391, 42.2173913 , 38.7826087 , 35.34782609, 31.91304348,\n",
       "       28.47826087, 25.04347826, 21.60869565, 18.17391304, 14.73913043,\n",
       "       11.30434783,  7.86956522,  4.43478261,  1.        ])"
      ]
     },
     "execution_count": 2,
     "metadata": {},
     "output_type": "execute_result"
    }
   ],
   "source": [
    "# Titration of Ligand Concentrations\n",
    "conc_array = np.array([80.0,76.5652173913,73.1304347826,69.6956521739,66.2608695652,62.8260869565,59.3913043478,55.9565217391,52.5217391304,49.0869565217,45.652173913,42.2173913043,38.7826086957,35.347826087,31.9130434783,28.4782608696,25.0434782609,21.6086956522,18.1739130435,14.7391304348,11.3043478261,7.86956521739,4.4347826087,1.0], np.float64)\n",
    "conc_array"
   ]
  },
  {
   "cell_type": "code",
   "execution_count": 3,
   "metadata": {},
   "outputs": [
    {
     "name": "stdout",
     "output_type": "stream",
     "text": [
      "[80.         76.56521739 73.13043478 69.69565217 66.26086957 62.82608696\n",
      " 59.39130435 55.95652174 52.52173913 49.08695652 45.65217391 42.2173913 ]\n",
      "[38.7826087  35.34782609 31.91304348 28.47826087 25.04347826 21.60869565\n",
      " 18.17391304 14.73913043 11.30434783  7.86956522  4.43478261  1.        ]\n",
      "[ 1.          4.43478261  7.86956522 11.30434783 14.73913043 18.17391304\n",
      " 21.60869565 25.04347826 28.47826087 31.91304348 35.34782609 38.7826087 ]\n"
     ]
    },
    {
     "data": {
      "text/plain": [
       "array([80.        , 76.56521739, 73.13043478, 69.69565217, 66.26086957,\n",
       "       62.82608696, 59.39130435, 55.95652174, 52.52173913, 49.08695652,\n",
       "       45.65217391, 42.2173913 ,  1.        ,  4.43478261,  7.86956522,\n",
       "       11.30434783, 14.73913043, 18.17391304, 21.60869565, 25.04347826,\n",
       "       28.47826087, 31.91304348, 35.34782609, 38.7826087 ])"
      ]
     },
     "execution_count": 3,
     "metadata": {},
     "output_type": "execute_result"
    }
   ],
   "source": [
    "# reorder conc array for infinite snaking\n",
    "first_row_conc_array = conc_array[0:12]\n",
    "print(first_row_conc_array)\n",
    "second_row_conc_array  = conc_array[12:]\n",
    "print(second_row_conc_array)\n",
    "flipped_second_row_conc_array = second_row_conc_array[::-1]\n",
    "print(flipped_second_row_conc_array)\n",
    "\n",
    "#snaking conc\n",
    "conc_array = np.append(first_row_conc_array, flipped_second_row_conc_array)\n",
    "conc_array"
   ]
  },
  {
   "cell_type": "code",
   "execution_count": 4,
   "metadata": {},
   "outputs": [
    {
     "data": {
      "text/plain": [
       "dict_keys(['Axitinib Free Base', 'Erlotinib', 'Gefitinib Free Base', 'Imatinib Methanesulfonate Salt'])"
      ]
     },
     "execution_count": 4,
     "metadata": {},
     "output_type": "execute_result"
    }
   ],
   "source": [
    "# List well boundaries of titration replicates as dictionary values, \n",
    "# in the direction of increasing ligand concentration\n",
    "\n",
    "ligands = {\"Axitinib Free Base\":[\"A1-A12\",\"B1-B12\"], \n",
    "           \"Erlotinib\": [\"C1-C12\",\"D1-D12\"], \n",
    "           \"Gefitinib Free Base\": [\"E1-E12\", \"F1-F12\"],\n",
    "           \"Imatinib Methanesulfonate Salt\": [\"G1-G12\", \"H1-H12\"]}\n",
    "\n",
    "ligands.keys()"
   ]
  },
  {
   "cell_type": "code",
   "execution_count": 5,
   "metadata": {},
   "outputs": [
    {
     "name": "stdout",
     "output_type": "stream",
     "text": [
      "[{'top_read_ex280_em480': {'A1': '6080', 'A2': '5193', 'A3': '5334', 'A4': '5414', 'A5': '5483', 'A6': '3716', 'A7': '4130', 'A8': '3711', 'A9': '3010', 'A10': '3052', 'A11': '2496', 'A12': '2226', 'B12': '38', 'B11': '45', 'B10': '47', 'B9': '62', 'B8': '75', 'B7': '76', 'B6': '1093', 'B5': '803', 'B4': '1425', 'B3': '1209', 'B2': '1082', 'B1': '1612', 'C1': '218', 'C2': '40', 'C3': '41', 'C4': '40', 'C5': '40', 'C6': '41', 'C7': '40', 'C8': '39', 'C9': '39', 'C10': '39', 'C11': '41', 'C12': '37', 'D12': '39', 'D11': '39', 'D10': '38', 'D9': '37', 'D8': '40', 'D7': '39', 'D6': '39', 'D5': '41', 'D4': '42', 'D3': '41', 'D2': '41', 'D1': '38', 'E1': '98', 'E2': '96', 'E3': '95', 'E4': '90', 'E5': '90', 'E6': '87', 'E7': '88', 'E8': '87', 'E9': '86', 'E10': '88', 'E11': '86', 'E12': '82', 'F12': '38', 'F11': '45', 'F10': '52', 'F9': '63', 'F8': '67', 'F7': '73', 'F6': '72', 'F5': '73', 'F4': '76', 'F3': '79', 'F2': '77', 'F1': '80', 'G1': '25', 'G2': '25', 'G3': '25', 'G4': '24', 'G5': '26', 'G6': '25', 'G7': '25', 'G8': '27', 'G9': '26', 'G10': '26', 'G11': '28', 'G12': '29', 'H12': '35', 'H11': '35', 'H10': '33', 'H9': '32', 'H8': '32', 'H7': '30', 'H6': '30', 'H5': '29', 'H4': '33', 'H3': '29', 'H2': '29', 'H1': '27'}}\n",
      " 1]\n",
      "[{'top_read_ex280_em480': {'A1': '6552', 'A2': '7182', 'A3': '6603', 'A4': '6479', 'A5': '5867', 'A6': '5977', 'A7': '4763', 'A8': '5175', 'A9': '4191', 'A10': '3520', 'A11': '2830', 'A12': '3123', 'B12': '35', 'B11': '42', 'B10': '48', 'B9': '48', 'B8': '62', 'B7': '523', 'B6': '631', 'B5': '723', 'B4': '956', 'B3': '1431', 'B2': '1277', 'B1': '1460', 'C1': '219', 'C2': '43', 'C3': '39', 'C4': '40', 'C5': '43', 'C6': '41', 'C7': '39', 'C8': '40', 'C9': '39', 'C10': '39', 'C11': '41', 'C12': '42', 'D12': '41', 'D11': '39', 'D10': '41', 'D9': '42', 'D8': '40', 'D7': '39', 'D6': '39', 'D5': '41', 'D4': '39', 'D3': '40', 'D2': '39', 'D1': '40', 'E1': '103', 'E2': '101', 'E3': '94', 'E4': '90', 'E5': '94', 'E6': '88', 'E7': '94', 'E8': '88', 'E9': '85', 'E10': '81', 'E11': '88', 'E12': '85', 'F12': '41', 'F11': '46', 'F10': '51', 'F9': '65', 'F8': '70', 'F7': '74', 'F6': '73', 'F5': '75', 'F4': '81', 'F3': '80', 'F2': '81', 'F1': '81', 'G1': '24', 'G2': '25', 'G3': '24', 'G4': '25', 'G5': '25', 'G6': '26', 'G7': '26', 'G8': '27', 'G9': '27', 'G10': '25', 'G11': '28', 'G12': '28', 'H12': '41', 'H11': '37', 'H10': '36', 'H9': '36', 'H8': '33', 'H7': '32', 'H6': '30', 'H5': '30', 'H4': '30', 'H3': '28', 'H2': '29', 'H1': '30'}}\n",
      " 1]\n",
      "[{'top_read_ex280_em480': {'A1': '5590', 'A2': '5300', 'A3': '4992', 'A4': '5068', 'A5': '4916', 'A6': '4704', 'A7': '4162', 'A8': '3862', 'A9': '3282', 'A10': '3643', 'A11': '2359', 'A12': '2414', 'B12': '44', 'B11': '52', 'B10': '53', 'B9': '54', 'B8': '89', 'B7': '120', 'B6': '124', 'B5': '89', 'B4': '72', 'B3': '1218', 'B2': '1761', 'B1': '1867', 'C1': '190', 'C2': '196', 'C3': '235', 'C4': '243', 'C5': '234', 'C6': '196', 'C7': '206', 'C8': '204', 'C9': '219', 'C10': '234', 'C11': '245', 'C12': '235', 'D12': '44', 'D11': '47', 'D10': '52', 'D9': '87', 'D8': '95', 'D7': '126', 'D6': '175', 'D5': '203', 'D4': '211', 'D3': '208', 'D2': '250', 'D1': '225', 'E1': '100', 'E2': '97', 'E3': '96', 'E4': '96', 'E5': '95', 'E6': '93', 'E7': '93', 'E8': '91', 'E9': '88', 'E10': '90', 'E11': '88', 'E12': '84', 'F12': '42', 'F11': '48', 'F10': '52', 'F9': '64', 'F8': '72', 'F7': '83', 'F6': '75', 'F5': '81', 'F4': '79', 'F3': '82', 'F2': '82', 'F1': '84', 'G1': '25', 'G2': '25', 'G3': '26', 'G4': '26', 'G5': '25', 'G6': '26', 'G7': '26', 'G8': '28', 'G9': '26', 'G10': '28', 'G11': '29', 'G12': '31', 'H12': '37', 'H11': '38', 'H10': '32', 'H9': '35', 'H8': '33', 'H7': '32', 'H6': '32', 'H5': '31', 'H4': '29', 'H3': '30', 'H2': '29', 'H1': '29'}}\n",
      " 1]\n"
     ]
    }
   ],
   "source": [
    "s = (1,24)\n",
    "reads1 = np.zeros(s)\n",
    "reads2 = np.zeros(s)\n",
    "label = 'top_read_ex280_em480'\n",
    "\n",
    "nreads = len(filename1)\n",
    "for r in range(nreads):\n",
    "    read1 = platereader.read_icontrol_xml(os.path.join(datapath, filename1))\n",
    "    for key, value in read1.items():\n",
    "        reads1 = (np.append(read1,1))\n",
    "print(reads1)\n",
    "\n",
    "for r in range(nreads):\n",
    "    read2 = platereader.read_icontrol_xml(os.path.join(datapath, filename2))\n",
    "    for key, value in read2.items():\n",
    "        reads2 = (np.append(read2,1))\n",
    "print(reads2)\n",
    "\n",
    "for r in range(nreads):\n",
    "    read3 = platereader.read_icontrol_xml(os.path.join(datapath, filename3))\n",
    "    for key, value in read3.items():\n",
    "        reads3 = (np.append(read3,1))\n",
    "print(reads3)"
   ]
  },
  {
   "cell_type": "code",
   "execution_count": 6,
   "metadata": {},
   "outputs": [
    {
     "name": "stdout",
     "output_type": "stream",
     "text": [
      "[6080. 5193. 5334. 5414. 5483. 3716. 4130. 3711. 3010. 3052. 2496. 2226.\n",
      "   38.   45.   47.   62.   75.   76. 1093.  803. 1425. 1209. 1082. 1612.]\n",
      "[218.  40.  41.  40.  40.  41.  40.  39.  39.  39.  41.  37.  39.  39.\n",
      "  38.  37.  40.  39.  39.  41.  42.  41.  41.  38.]\n",
      "[98. 96. 95. 90. 90. 87. 88. 87. 86. 88. 86. 82. 38. 45. 52. 63. 67. 73.\n",
      " 72. 73. 76. 79. 77. 80.]\n",
      "[25. 25. 25. 24. 26. 25. 25. 27. 26. 26. 28. 29. 35. 35. 33. 32. 32. 30.\n",
      " 30. 29. 33. 29. 29. 27.]\n",
      "[6552. 7182. 6603. 6479. 5867. 5977. 4763. 5175. 4191. 3520. 2830. 3123.\n",
      "   35.   42.   48.   48.   62.  523.  631.  723.  956. 1431. 1277. 1460.]\n",
      "[219.  43.  39.  40.  43.  41.  39.  40.  39.  39.  41.  42.  41.  39.\n",
      "  41.  42.  40.  39.  39.  41.  39.  40.  39.  40.]\n",
      "[103. 101.  94.  90.  94.  88.  94.  88.  85.  81.  88.  85.  41.  46.\n",
      "  51.  65.  70.  74.  73.  75.  81.  80.  81.  81.]\n",
      "[24. 25. 24. 25. 25. 26. 26. 27. 27. 25. 28. 28. 41. 37. 36. 36. 33. 32.\n",
      " 30. 30. 30. 28. 29. 30.]\n",
      "[5590. 5300. 4992. 5068. 4916. 4704. 4162. 3862. 3282. 3643. 2359. 2414.\n",
      "   44.   52.   53.   54.   89.  120.  124.   89.   72. 1218. 1761. 1867.]\n",
      "[190. 196. 235. 243. 234. 196. 206. 204. 219. 234. 245. 235.  44.  47.\n",
      "  52.  87.  95. 126. 175. 203. 211. 208. 250. 225.]\n",
      "[100.  97.  96.  96.  95.  93.  93.  91.  88.  90.  88.  84.  42.  48.\n",
      "  52.  64.  72.  83.  75.  81.  79.  82.  82.  84.]\n",
      "[25. 25. 26. 26. 25. 26. 26. 28. 26. 28. 29. 31. 37. 38. 32. 35. 33. 32.\n",
      " 32. 31. 29. 30. 29. 29.]\n"
     ]
    }
   ],
   "source": [
    "# split up reads into 4 sections for ligands and convert to float\n",
    "\n",
    "#reads1\n",
    "reads1_values = list((reads1[0][label].values()))\n",
    "reads1_lig1 = (reads1_values[0:24])\n",
    "reads1_lig1 = np.array(reads1_lig1, dtype=float) \n",
    "print(reads1_lig1)\n",
    "reads1_lig2 = (reads1_values[24:48])\n",
    "reads1_lig2 = np.array(reads1_lig2, dtype=float)\n",
    "print(reads1_lig2)\n",
    "reads1_lig3 = (reads1_values[48:72])\n",
    "reads1_lig3 = np.array(reads1_lig3, dtype=float)\n",
    "print(reads1_lig3)\n",
    "reads1_lig4 = (reads1_values[72:96])\n",
    "reads1_lig4 = np.array(reads1_lig4, dtype=float)\n",
    "print(reads1_lig4)\n",
    "\n",
    "#reads2\n",
    "reads2_values = list((reads2[0][label].values()))\n",
    "reads2_lig1 = (reads2_values[0:24])\n",
    "reads2_lig1 = np.array(reads2_lig1, dtype=float) \n",
    "print(reads2_lig1)\n",
    "reads2_lig2 = (reads2_values[24:48])\n",
    "reads2_lig2 = np.array(reads2_lig2, dtype=float)\n",
    "print(reads2_lig2)\n",
    "reads2_lig3 = (reads2_values[48:72])\n",
    "reads2_lig3 = np.array(reads2_lig3, dtype=float)\n",
    "print(reads2_lig3)\n",
    "reads2_lig4 = (reads2_values[72:96])\n",
    "reads2_lig4 = np.array(reads2_lig4, dtype=float)\n",
    "print(reads2_lig4)\n",
    "\n",
    "#reads3\n",
    "reads3_values = list((reads3[0][label].values()))\n",
    "reads3_lig1 = (reads3_values[0:24])\n",
    "reads3_lig1 = np.array(reads3_lig1, dtype=float) \n",
    "print(reads3_lig1)\n",
    "reads3_lig2 = (reads3_values[24:48])\n",
    "reads3_lig2 = np.array(reads3_lig2, dtype=float)\n",
    "print(reads3_lig2)\n",
    "reads3_lig3 = (reads3_values[48:72])\n",
    "reads3_lig3 = np.array(reads3_lig3, dtype=float)\n",
    "print(reads3_lig3)\n",
    "reads3_lig4 = (reads3_values[72:96])\n",
    "reads3_lig4 = np.array(reads3_lig4, dtype=float)\n",
    "print(reads3_lig4)"
   ]
  },
  {
   "cell_type": "code",
   "execution_count": 7,
   "metadata": {},
   "outputs": [],
   "source": [
    "# define functions for reading well list associated with each ligand\n",
    "\n",
    "def extract_fluo(well_dictionary, ligand = \"bosutinib\", number_of_sections = 2 , number_of_wells_in_each_section = 12):\n",
    "    \"\"\"\n",
    "    For specified ligand, returns a numpy array of fluorescence values \n",
    "    where replicates are concatanated after each other.\n",
    "    \"\"\"\n",
    "    ALPHABET = string.ascii_uppercase\n",
    "\n",
    "    # construct a dictionary that keeps well labels for each replicate keeping experimental order\n",
    "    \n",
    "    section_well_labels = {}\n",
    "\n",
    "    for i in range(number_of_sections):\n",
    "\n",
    "        well_interval = ligands[ligand][i]\n",
    "        print(well_interval)\n",
    "        first_well, last_well = well_interval.split(\"-\")\n",
    "        #print(first_well, last_well)\n",
    "\n",
    "        # determine if well series in each section was positioned horizontally or vertically\n",
    "        if first_well[0:1] == last_well[0:1]:\n",
    "            print(\"Section {} is placed horizontally\".format(i+1))\n",
    "            row_name = first_well[0:1]\n",
    "\n",
    "            well_name_list = []\n",
    "            for j in range(number_of_wells_in_each_section):\n",
    "                well_label = row_name + str(j+1)\n",
    "                well_name_list.append(well_label)\n",
    "            #print(well_name_list)\n",
    "            section_well_labels[\"sec{}\".format(i+1)] = well_name_list\n",
    "            #print('section_well_labels', section_well_labels)\n",
    "\n",
    "        else:\n",
    "            #print(\"Section {} is placed vertically\".format(i+1))\n",
    "            column_name = first_well[1:]\n",
    "\n",
    "            well_name_list = []\n",
    "            for j in range(number_of_wells_in_each_section):\n",
    "                well_label = ALPHABET[j] + column_name\n",
    "                well_name_list.append(well_label)\n",
    "            #print(well_name_list)\n",
    "            section_well_labels[\"sec{}\".format(i+1)] = well_name_list\n",
    "            \n",
    "    # Concatanate well labels of all sections to achieve full well name list\n",
    "    \n",
    "    full_well_name_list = [] # Concatanate well labels of all sections to achieve full well name list\n",
    "    \n",
    "    for i in range(number_of_sections):\n",
    "        well_name_list = section_well_labels[\"sec{}\".format(i+1)]\n",
    "        full_well_name_list = full_well_name_list + well_name_list\n",
    "        \n",
    "    print(\"full_well_name_list:\\n\", full_well_name_list )\n",
    "    \n",
    "    # Create numpy array for fluorescence values\n",
    "    \n",
    "    fluo_array_1 = np.zeros([number_of_sections*number_of_wells_in_each_section])\n",
    "    fluo_array_2 = np.zeros([number_of_sections*number_of_wells_in_each_section])\n",
    "    fluo_array_3 = np.zeros([number_of_sections*number_of_wells_in_each_section])\n",
    "\n",
    "    if ligand == \"Axitinib Free Base\":\n",
    "        fluo_array_1 = reads1_lig1\n",
    "        fluo_array_2 = reads2_lig1\n",
    "        fluo_array_3 = reads3_lig1\n",
    "    if ligand == \"Erlotinib\":\n",
    "        fluo_array_1 = reads1_lig2\n",
    "        fluo_array_2 = reads2_lig2\n",
    "        fluo_array_3 = reads3_lig2\n",
    "    if ligand == \"Gefitinib Free Base\":\n",
    "        fluo_array_1 = reads1_lig3\n",
    "        fluo_array_2 = reads2_lig3\n",
    "        fluo_array_3 = reads3_lig3\n",
    "    if ligand == 'Imatinib Methanesulfonate Salt':\n",
    "        fluo_array_1 = reads1_lig4\n",
    "        fluo_array_2 = reads2_lig4\n",
    "        fluo_array_3 = reads3_lig4\n",
    "\n",
    "#     for j, well_name in enumerate(full_well_name_list):\n",
    "#             fluo_array = reads_lig1\n",
    "#             print(fluo_array)\n",
    "            #print(well_name, norm_int)\n",
    "         \n",
    "#             # If fluorescence is recorded as 'OVER', record it as 0\n",
    "#             if fluo_array == 'OVER':\n",
    "#                 fluo_array = 329724 #an arbitrarily high number\n",
    "#             fluo_array[j] = fluo_reads\n",
    "            \n",
    "    return(fluo_array_1, fluo_array_2, fluo_array_3)\n",
    "\n",
    "\n",
    "def DLS_fluo_plot(concentrations, data1, data2, data3, ligand_name, ymax):\n",
    "    figure = plt.figure()\n",
    "    with sns.color_palette(\"colorblind\"):\n",
    "        plt.plot(concentrations, data1, \"o\", label='Replicate 1', markersize=4, alpha=0.6)\n",
    "        plt.plot(concentrations, data2, \"o\", label='Replicate 2', markersize=4, alpha=0.6)\n",
    "        plt.plot(concentrations, data3, \"o\", label='Replicate 3', markersize=4, alpha=0.6)\n",
    "        plt.legend(loc='upper left', prop={'size': 11})\n",
    "        plt.title(ligand_name, size=18)\n",
    "        plt.xlabel(\"Concentration ($\\mu$M)\", size=15)\n",
    "        plt.ylabel(\"Fluorescence Units\", size=15)\n",
    "        plt.ylim(0, ymax)\n",
    "        plt.tick_params(axis='y', which='major', labelsize=9)\n",
    "        plt.tick_params(axis='x', which='major', labelsize=12)\n",
    "        plt.show()\n",
    "    return(figure)\n"
   ]
  },
  {
   "cell_type": "code",
   "execution_count": 8,
   "metadata": {},
   "outputs": [
    {
     "name": "stdout",
     "output_type": "stream",
     "text": [
      "A1-A12\n",
      "Section 1 is placed horizontally\n",
      "B1-B12\n",
      "Section 2 is placed horizontally\n",
      "full_well_name_list:\n",
      " ['A1', 'A2', 'A3', 'A4', 'A5', 'A6', 'A7', 'A8', 'A9', 'A10', 'A11', 'A12', 'B1', 'B2', 'B3', 'B4', 'B5', 'B6', 'B7', 'B8', 'B9', 'B10', 'B11', 'B12']\n",
      "Fluorescence Values [6080. 5193. 5334. 5414. 5483. 3716. 4130. 3711. 3010. 3052. 2496. 2226.\n",
      "   38.   45.   47.   62.   75.   76. 1093.  803. 1425. 1209. 1082. 1612.]\n",
      "A1-A12\n",
      "Section 1 is placed horizontally\n",
      "B1-B12\n",
      "Section 2 is placed horizontally\n",
      "full_well_name_list:\n",
      " ['A1', 'A2', 'A3', 'A4', 'A5', 'A6', 'A7', 'A8', 'A9', 'A10', 'A11', 'A12', 'B1', 'B2', 'B3', 'B4', 'B5', 'B6', 'B7', 'B8', 'B9', 'B10', 'B11', 'B12']\n",
      "Fluorescence Values [6552. 7182. 6603. 6479. 5867. 5977. 4763. 5175. 4191. 3520. 2830. 3123.\n",
      "   35.   42.   48.   48.   62.  523.  631.  723.  956. 1431. 1277. 1460.]\n",
      "A1-A12\n",
      "Section 1 is placed horizontally\n",
      "B1-B12\n",
      "Section 2 is placed horizontally\n",
      "full_well_name_list:\n",
      " ['A1', 'A2', 'A3', 'A4', 'A5', 'A6', 'A7', 'A8', 'A9', 'A10', 'A11', 'A12', 'B1', 'B2', 'B3', 'B4', 'B5', 'B6', 'B7', 'B8', 'B9', 'B10', 'B11', 'B12']\n",
      "Fluorescence Values [5590. 5300. 4992. 5068. 4916. 4704. 4162. 3862. 3282. 3643. 2359. 2414.\n",
      "   44.   52.   53.   54.   89.  120.  124.   89.   72. 1218. 1761. 1867.]\n"
     ]
    },
    {
     "data": {
      "image/png": "[encoded data removed]",
      "text/plain": [
       "<Figure size 432x288 with 1 Axes>"
      ]
     },
     "metadata": {},
     "output_type": "display_data"
    }
   ],
   "source": [
    "pdf = PdfPages(\"20181026_kinase_inh_comparison_axi_fluorescence.pdf\")\n",
    "\n",
    "data_array_1 = extract_fluo(well_dictionary = ligands, ligand = \"Axitinib Free Base\")\n",
    "print(\"Fluorescence Values\", data_array_1[0])\n",
    "data_array_2 = extract_fluo(well_dictionary = ligands, ligand = \"Axitinib Free Base\")\n",
    "print(\"Fluorescence Values\", data_array_2[1])\n",
    "data_array_3 = extract_fluo(well_dictionary = ligands, ligand = \"Axitinib Free Base\")\n",
    "print(\"Fluorescence Values\", data_array_3[2])\n",
    "\n",
    "fig = DLS_fluo_plot(concentrations = conc_array, data1 = data_array_1[0], data2 = data_array_2[1], data3 = data_array_3[2], ligand_name = \"Axitinib Free Base\", ymax = 7000)\n",
    "\n",
    "pdf.savefig(fig)\n",
    "    \n",
    "pdf.close()"
   ]
  },
  {
   "cell_type": "code",
   "execution_count": null,
   "metadata": {},
   "outputs": [],
   "source": [
    "data_array_1 = extract_fluo(well_dictionary = ligands, ligand = \"Gefitinib Free Base\")\n",
    "print(\"Fluorescence Values\", data_array_1[0])\n",
    "data_array_2 = extract_fluo(well_dictionary = ligands, ligand = \"Gefitinib Free Base\")\n",
    "print(\"Fluorescence Values\", data_array_2[1])\n",
    "data_array_3 = extract_fluo(well_dictionary = ligands, ligand = \"Gefitinib Free Base\")\n",
    "print(\"Fluorescence Values\", data_array_3[2])\n",
    "\n",
    "fig = DLS_fluo_plot(concentrations = conc_array, data1 = data_array_1[0], data2 = data_array_2[1], data3 = data_array_3[2], ligand_name = \"Gefitinib Free Base\", ymax = 150)"
   ]
  },
  {
   "cell_type": "code",
   "execution_count": null,
   "metadata": {},
   "outputs": [],
   "source": [
    "data_array_1 = extract_fluo(well_dictionary = ligands, ligand = \"Imatinib Methanesulfonate Salt\")\n",
    "print(\"Fluorescence Values\", data_array_1[0])\n",
    "data_array_2 = extract_fluo(well_dictionary = ligands, ligand = \"Imatinib Methanesulfonate Salt\")\n",
    "print(\"Fluorescence Values\", data_array_2[1])\n",
    "data_array_3 = extract_fluo(well_dictionary = ligands, ligand = \"Imatinib Methanesulfonate Salt\")\n",
    "print(\"Fluorescence Values\", data_array_3[2])\n",
    "\n",
    "fig = DLS_fluo_plot(concentrations = conc_array, data1 = data_array_1[0], data2 = data_array_2[1], data3 = data_array_3[2], ligand_name = \"Imatinib Methanesulfonate Salt\", ymax = 500)"
   ]
  },
  {
   "cell_type": "code",
   "execution_count": null,
   "metadata": {},
   "outputs": [],
   "source": [
    "# Save plot in a pdf\n",
    "pdf = PdfPages(\"20181026_kinase_inh_comparison_axi_gef_ima_fluorescence.pdf\")\n",
    "\n",
    "\n",
    "data_array_1 = extract_fluo(well_dictionary = ligands, ligand = \"Axitinib Free Base\")\n",
    "data_array_2 = extract_fluo(well_dictionary = ligands, ligand = \"Axitinib Free Base\")\n",
    "data_array_3 = extract_fluo(well_dictionary = ligands, ligand = \"Axitinib Free Base\")\n",
    "\n",
    "plot1 = DLS_fluo_plot(concentrations = conc_array, data1 = data_array_1[0], data2 = data_array_2[1], data3 = data_array_3[2], ligand_name = \"Axitinib Free Base\", ymax = 7000)\n",
    "pdf.savefig(plot1)\n",
    "\n",
    "data_array_1 = extract_fluo(well_dictionary = ligands, ligand = \"Gefitinib Free Base\")\n",
    "data_array_2 = extract_fluo(well_dictionary = ligands, ligand = \"Gefitinib Free Base\")\n",
    "data_array_3 = extract_fluo(well_dictionary = ligands, ligand = \"Gefitinib Free Base\")\n",
    "\n",
    "plot2 = DLS_fluo_plot(concentrations = conc_array, data1 = data_array_1[0], data2 = data_array_2[1], data3 = data_array_3[2], ligand_name = \"Gefitinib Free Base\", ymax = 150)\n",
    "pdf.savefig(plot2)\n",
    "\n",
    "data_array_1 = extract_fluo(well_dictionary = ligands, ligand = \"Imatinib Methanesulfonate Salt\")\n",
    "data_array_2 = extract_fluo(well_dictionary = ligands, ligand = \"Imatinib Methanesulfonate Salt\")\n",
    "data_array_3 = extract_fluo(well_dictionary = ligands, ligand = \"Imatinib Methanesulfonate Salt\")\n",
    "\n",
    "plot3 = DLS_fluo_plot(concentrations = conc_array, data1 = data_array_1[0], data2 = data_array_2[1], data3 = data_array_3[2], ligand_name = \"Imatinib Methanesulfonate Salt\", ymax = 500)\n",
    "pdf.savefig(plot3)\n",
    "    \n",
    "pdf.close()"
   ]
  },
  {
   "cell_type": "code",
   "execution_count": null,
   "metadata": {},
   "outputs": [],
   "source": []
  }
 ],
 "metadata": {
  "kernelspec": {
   "display_name": "Python 3",
   "language": "python",
   "name": "python3"
  },
  "language_info": {
   "codemirror_mode": {
    "name": "ipython",
    "version": 3
   },
   "file_extension": ".py",
   "mimetype": "text/x-python",
   "name": "python",
   "nbconvert_exporter": "python",
   "pygments_lexer": "ipython3",
   "version": "3.6.6"
  }
 },
 "nbformat": 4,
 "nbformat_minor": 2
}
